{
 "cells": [
  {
   "cell_type": "code",
   "execution_count": 12,
   "metadata": {
    "scrolled": true
   },
   "outputs": [
    {
     "data": {
      "text/html": [
       "<div>\n",
       "<style scoped>\n",
       "    .dataframe tbody tr th:only-of-type {\n",
       "        vertical-align: middle;\n",
       "    }\n",
       "\n",
       "    .dataframe tbody tr th {\n",
       "        vertical-align: top;\n",
       "    }\n",
       "\n",
       "    .dataframe thead th {\n",
       "        text-align: right;\n",
       "    }\n",
       "</style>\n",
       "<table border=\"1\" class=\"dataframe\">\n",
       "  <thead>\n",
       "    <tr style=\"text-align: right;\">\n",
       "      <th></th>\n",
       "      <th>index</th>\n",
       "      <th>year</th>\n",
       "      <th>City</th>\n",
       "      <th>total_crimes</th>\n",
       "    </tr>\n",
       "  </thead>\n",
       "  <tbody>\n",
       "    <tr>\n",
       "      <th>0</th>\n",
       "      <td>3</td>\n",
       "      <td>2013</td>\n",
       "      <td>Kolkata</td>\n",
       "      <td>6664</td>\n",
       "    </tr>\n",
       "    <tr>\n",
       "      <th>1</th>\n",
       "      <td>1</td>\n",
       "      <td>2013</td>\n",
       "      <td>Chennai</td>\n",
       "      <td>7148</td>\n",
       "    </tr>\n",
       "    <tr>\n",
       "      <th>2</th>\n",
       "      <td>0</td>\n",
       "      <td>2013</td>\n",
       "      <td>Bangalore</td>\n",
       "      <td>7926</td>\n",
       "    </tr>\n",
       "    <tr>\n",
       "      <th>3</th>\n",
       "      <td>4</td>\n",
       "      <td>2013</td>\n",
       "      <td>Mumbai</td>\n",
       "      <td>9273</td>\n",
       "    </tr>\n",
       "    <tr>\n",
       "      <th>4</th>\n",
       "      <td>2</td>\n",
       "      <td>2013</td>\n",
       "      <td>Delhi</td>\n",
       "      <td>13611</td>\n",
       "    </tr>\n",
       "  </tbody>\n",
       "</table>\n",
       "</div>"
      ],
      "text/plain": [
       "   index  year       City  total_crimes\n",
       "0      3  2013    Kolkata          6664\n",
       "1      1  2013    Chennai          7148\n",
       "2      0  2013  Bangalore          7926\n",
       "3      4  2013     Mumbai          9273\n",
       "4      2  2013      Delhi         13611"
      ]
     },
     "execution_count": 12,
     "metadata": {},
     "output_type": "execute_result"
    }
   ],
   "source": [
    "#import pandas as pd\n",
    "import pandas as pd\n",
    "crime_df = pd.read_csv(r'C:\\Users\\swati.ah.kumari\\demos\\Documents\\Assignment-2_CrimeData\\crime-data.csv')\n",
    "\n",
    "#creating a seperate column for year\n",
    "crime_df['year'] = crime_df['Month'].map(lambda x: '20'+(x.split('-')[1]))\n",
    "#creating column of total_crimes \n",
    "crime_df['total_crimes'] = crime_df['Murders'] + crime_df['Thefts'] + crime_df['Eveteasing']\n",
    "#arranging data by year with city and total_crimes column\n",
    "data=crime_df.groupby(['year', 'City']).agg({'total_crimes': 'sum'}).reset_index().sort_values(by=['year', 'total_crimes'], ascending = False)\n",
    "data.reset_index()\n",
    "\n",
    "\n",
    "Yearwise_data= crime_df.groupby([\"year\",\"City\"]).agg({'total_crimes': \"sum\"}).reset_index().sort_values(by=[\"year\",\"total_crimes\"], ascending = True)\n",
    "# Yearwise_data2= \n",
    "Yearwise_data.groupby('year').get_group('2013').reset_index().sort_values(by=[\"total_crimes\"])\n",
    "# city = Yearwise_data2[\"City\"][0]))\n"
   ]
  },
  {
   "cell_type": "code",
   "execution_count": 2,
   "metadata": {},
   "outputs": [
    {
     "name": "stdout",
     "output_type": "stream",
     "text": [
      "highest total of number of crimes in 2013 in city:Delhi\n",
      "highest total of number of crimes in 2014 in city:Kolkata\n",
      "highest total of number of crimes in 2015 in city:Bangalore\n"
     ]
    }
   ],
   "source": [
    "# Which city had highest total of number of crimes in each of the years?\n",
    "#creating a seperate column for year\n",
    "crime_df['total_crimes'] = crime_df['Murders'] + crime_df['Thefts'] + crime_df['Eveteasing']\n",
    "# sorting data by year with city and total_crimes column\n",
    "data=crime_df.groupby(['year', 'City']).agg({'total_crimes': 'sum'}).reset_index().sort_values(by=['year', 'total_crimes'], ascending = False)\n",
    "\n",
    "# getting all year maximum total_crimes\n",
    "print(\"highest total of number of crimes in 2013 in city\"+':'+data.groupby('year').get_group('2013').reset_index() ['City'][0])\n",
    "print(\"highest total of number of crimes in 2014 in city\"+':'+data.groupby('year').get_group('2014').reset_index() ['City'][0])\n",
    "print(\"highest total of number of crimes in 2015 in city\"+':'+data.groupby('year').get_group('2015').reset_index() ['City'][0])\n",
    "\n"
   ]
  },
  {
   "cell_type": "code",
   "execution_count": 3,
   "metadata": {},
   "outputs": [
    {
     "data": {
      "text/plain": [
       "'City Witnessed Highest Murders in 2013:Delhi'"
      ]
     },
     "execution_count": 3,
     "metadata": {},
     "output_type": "execute_result"
    }
   ],
   "source": [
    "# b. Which city witnessed highest murders in 2013?\n",
    "\n",
    "grp=crime_df.groupby(['year','City']).agg({'Murders': 'sum'}).reset_index().sort_values(by=['year', 'Murders'], ascending = False)\n",
    "\"City Witnessed Highest Murders in 2013\"+\":\"+grp.groupby('year').get_group('2013').reset_index() [\"City\"][0]\n",
    "\n"
   ]
  },
  {
   "cell_type": "code",
   "execution_count": 4,
   "metadata": {},
   "outputs": [
    {
     "data": {
      "text/plain": [
       "'City witnessed Highest Thefts in 2015:Mumbai'"
      ]
     },
     "execution_count": 4,
     "metadata": {},
     "output_type": "execute_result"
    }
   ],
   "source": [
    "#  c. Which city witnessed the highest thefts in 2015?\n",
    "grp=crime_df.groupby(['year','City']).agg({'Thefts': 'sum'}).reset_index().sort_values(by=['year', 'Thefts'], ascending = False)\n",
    "\"City witnessed Highest Thefts in 2015\"+\":\"+grp.groupby('year').get_group('2015').reset_index()[\"City\"][0]\n"
   ]
  },
  {
   "cell_type": "code",
   "execution_count": 5,
   "metadata": {},
   "outputs": [
    {
     "data": {
      "text/plain": [
       "'City Witnessed Highest Eveteasing in 2013:Delhi'"
      ]
     },
     "execution_count": 5,
     "metadata": {},
     "output_type": "execute_result"
    }
   ],
   "source": [
    "# d. Which city witnessed the highest eveteasing incidents in 2013?\n",
    "\n",
    "grp=crime_df.groupby(['year','City']).agg({'Eveteasing': 'sum'}).reset_index().sort_values(by=['year', 'Eveteasing'], ascending = False)\n",
    "\"City Witnessed Highest Eveteasing in 2013\"+\":\"+grp.groupby('year').get_group('2013').reset_index()[\"City\"][0]\n"
   ]
  },
  {
   "cell_type": "code",
   "execution_count": 6,
   "metadata": {},
   "outputs": [
    {
     "data": {
      "text/plain": [
       "(167, 'Murders')"
      ]
     },
     "execution_count": 6,
     "metadata": {},
     "output_type": "execute_result"
    }
   ],
   "source": [
    "#  e. In general, which month has highest number of average murders reported across three years?\n",
    "crime_df['Months'] = crime_df['Month'].map(lambda x: x.split('-')[0])\n",
    "grp=crime_df.groupby(['Months']).agg({'Murders': 'sum'}).reset_index().sort_values(by=['Murders', 'Months'], ascending = False)\n",
    "\"Month reported Highest murder across three years\"+\":\"+grp.reset_index()[\"Months\"][0]\n",
    "\n",
    "grp=crime_df.groupby('City').get_group('Delhi')\n",
    "data=grp.groupby(['Months','City']).agg({'Murders': 'sum','Thefts':'sum','Eveteasing':'sum'}).reset_index().sort_values(by=['Months','Murders','Thefts','Eveteasing'], ascending = False).reset_index()\n",
    "\n",
    "monthwisedta=data.groupby('Months').get_group('Jan').reset_index()\n",
    "min((monthwisedta['Murders'][0],'Murders'),(monthwisedta['Thefts'][0],'Thefts'),(monthwisedta['Eveteasing'][0],'Eveteasing'))"
   ]
  },
  {
   "cell_type": "code",
   "execution_count": 7,
   "metadata": {},
   "outputs": [
    {
     "data": {
      "text/plain": [
       "Text(0, 0.5, 'average')"
      ]
     },
     "execution_count": 7,
     "metadata": {},
     "output_type": "execute_result"
    }
   ],
   "source": [
    "#   i. Create a month-wise count plot of average thefts across the three years for Delhi?\n",
    "# sorting average of thefts month-wise\n",
    "grp=crime_df.groupby('City').get_group('Delhi') \n",
    "avgofthefts=grp.groupby('Months',sort=False)[\"Thefts\"].mean().reset_index()\n",
    "\n",
    "\n",
    "#importing required libraries\n",
    "import seaborn as sns # for data visualization\n",
    "import numpy as np # for numeric computing\n",
    "import matplotlib.pyplot as plt # for data visualization\n",
    "plt.figure(figsize =(13, 6))\n",
    "sns.set_style('darkgrid')\n",
    "sns.set_context('notebook', font_scale = 2)\n",
    "splot=sns.barplot(x=avgofthefts.Months,y=avgofthefts.Thefts,palette=\"muted\")\n",
    "plt.xlabel(\"months\", size=20)\n",
    "plt.ylabel(\"average\", size=20)\n"
   ]
  },
  {
   "cell_type": "code",
   "execution_count": 8,
   "metadata": {},
   "outputs": [
    {
     "data": {
      "text/plain": [
       "Text(0, 0.5, 'average')"
      ]
     },
     "execution_count": 8,
     "metadata": {},
     "output_type": "execute_result"
    },
    {
     "data": {
      "image/png": "[encoded data removed]",
      "text/plain": [
       "<Figure size 936x432 with 1 Axes>"
      ]
     },
     "metadata": {
      "needs_background": "light"
     },
     "output_type": "display_data"
    }
   ],
   "source": [
    "# j. Create a month-wise count plot of average crimes across the three years for Mumbai?\n",
    "\n",
    "grp=crime_df.groupby('City').get_group('Mumbai') \n",
    "avgofcrimes=grp.groupby(['Months'],sort=False)[\"total_crimes\"].mean().reset_index()\n",
    "avgofcrimes\n",
    "\n",
    "# #importing required libraries\n",
    "import seaborn as sns # for data visualization\n",
    "import numpy as np # for numeric computing\n",
    "import matplotlib.pyplot as plt # for data visualization\n",
    "plt.figure(figsize =(13, 6))\n",
    "sns.set_style('darkgrid')\n",
    "sns.set_context('notebook', font_scale = 2)\n",
    "splot=sns.barplot(x=avgofcrimes.Months,y=avgofcrimes.total_crimes,palette=\"muted\")\n",
    "plt.xlabel(\"months\", size=20)\n",
    "plt.ylabel(\"average\", size=20)\n"
   ]
  },
  {
   "cell_type": "code",
   "execution_count": 9,
   "metadata": {
    "scrolled": true
   },
   "outputs": [
    {
     "data": {
      "text/plain": [
       "<matplotlib.axes._subplots.AxesSubplot at 0x24a31ebd7f0>"
      ]
     },
     "execution_count": 9,
     "metadata": {},
     "output_type": "execute_result"
    },
    {
     "data": {
      "image/png": "[encoded data removed]",
      "text/plain": [
       "<Figure size 432x288 with 1 Axes>"
      ]
     },
     "metadata": {},
     "output_type": "display_data"
    }
   ],
   "source": [
    "# k.Create a month-wise count plot of average number of thefts and murders across the three years for Chennai (in same plot)?\n",
    "grp=crime_df.groupby('City').get_group('Chennai') \n",
    "groups=grp.groupby(['Months'],sort=False).aggregate({'Thefts': 'mean', 'Murders': 'mean'}).reset_index()\n",
    "groups\n",
    "# importing required libraries\n",
    "import matplotlib.pyplot as plt\n",
    "groups.plot(x=\"Months\", y=[\"Thefts\", \"Murders\"], kind=\"bar\")"
   ]
  }
 ],
 "metadata": {
  "kernelspec": {
   "display_name": "Python 3",
   "language": "python",
   "name": "python3"
  },
  "language_info": {
   "codemirror_mode": {
    "name": "ipython",
    "version": 3
   },
   "file_extension": ".py",
   "mimetype": "text/x-python",
   "name": "python",
   "nbconvert_exporter": "python",
   "pygments_lexer": "ipython3",
   "version": "3.7.3"
  },
  "vscode": {
   "interpreter": {
    "hash": "369f2c481f4da34e4445cda3fffd2e751bd1c4d706f27375911949ba6bb62e1c"
   }
  }
 },
 "nbformat": 4,
 "nbformat_minor": 2
}
